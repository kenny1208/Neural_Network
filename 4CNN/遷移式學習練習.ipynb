{
  "nbformat": 4,
  "nbformat_minor": 0,
  "metadata": {
    "colab": {
      "provenance": [],
      "gpuType": "T4"
    },
    "kernelspec": {
      "name": "python3",
      "display_name": "Python 3"
    },
    "language_info": {
      "name": "python"
    },
    "accelerator": "GPU"
  },
  "cells": [
    {
      "cell_type": "code",
      "source": [
        "#範例 1\n",
        "from tensorflow.keras.applications import VGG16\n",
        "from tensorflow.keras.preprocessing import image\n",
        "from tensorflow.keras.utils import load_img\n",
        "from tensorflow.keras.applications.vgg16 import preprocess_input, decode_predictions\n",
        "import numpy as np\n",
        "\n",
        "# 加載預訓練的VGG16模型，不包括頂層的全連接層\n",
        "model = VGG16(weights='imagenet', include_top=True)\n",
        "# 加載圖像（這裡以猫的圖片為例）\n",
        "img_path = 'cat.jpg'\n",
        "img = load_img(img_path, target_size=(224, 224))\n",
        "# 將圖像轉換為numpy數組並進行預處理\n",
        "x = image.img_to_array(img)\n",
        "x = np.expand_dims(x, axis=0)\n",
        "x = preprocess_input(x)\n",
        "# 用VGG16進行預測\n",
        "preds = model.predict(x)\n",
        "# 解碼預測結果（將預測概率轉換為類別名稱）\n",
        "print('Predicted:', decode_predictions(preds, top=3)[0])\n"
      ],
      "metadata": {
        "colab": {
          "base_uri": "https://localhost:8080/"
        },
        "id": "Fr3fIfRBdfGT",
        "outputId": "17abe636-8c99-4b05-b623-863ce4274dbb"
      },
      "execution_count": 10,
      "outputs": [
        {
          "output_type": "stream",
          "name": "stdout",
          "text": [
            "1/1 [==============================] - 1s 1s/step\n",
            "Downloading data from https://storage.googleapis.com/download.tensorflow.org/data/imagenet_class_index.json\n",
            "35363/35363 [==============================] - 0s 0us/step\n",
            "Predicted: [('n02123159', 'tiger_cat', 0.471615), ('n02124075', 'Egyptian_cat', 0.18742989), ('n02123045', 'tabby', 0.17165089)]\n"
          ]
        }
      ]
    },
    {
      "cell_type": "code",
      "source": [
        "#z範例 2\n",
        "# example of extending the vgg16 model\n",
        "from keras.applications.vgg16 import VGG16\n",
        "from keras.models import Model\n",
        "from keras.layers import Dense\n",
        "from keras.layers import Flatten\n",
        "# load model without classifier layers\n",
        "model = VGG16(include_top=False, input_shape=(300, 300, 3))\n",
        "# mark loaded layers as not trainable\n",
        "for layer in model.layers:\n",
        "\tlayer.trainable = False\n",
        "\n",
        "# add new classifier layers\n",
        "flat1 = Flatten()(model.output)\n",
        "class1 = Dense(1024, activation='relu')(flat1)\n",
        "output = Dense(10, activation='softmax')(class1)\n",
        "# define new model\n",
        "model = Model(inputs=model.inputs, outputs=output)\n",
        "# summarize\n",
        "model.summary()\n"
      ],
      "metadata": {
        "colab": {
          "base_uri": "https://localhost:8080/"
        },
        "id": "zob-8Hx4mXAa",
        "outputId": "94335505-dee9-4362-be98-1c21cb8425f4"
      },
      "execution_count": 5,
      "outputs": [
        {
          "output_type": "stream",
          "name": "stdout",
          "text": [
            "Model: \"model_2\"\n",
            "_________________________________________________________________\n",
            " Layer (type)                Output Shape              Param #   \n",
            "=================================================================\n",
            " input_3 (InputLayer)        [(None, 300, 300, 3)]     0         \n",
            "                                                                 \n",
            " block1_conv1 (Conv2D)       (None, 300, 300, 64)      1792      \n",
            "                                                                 \n",
            " block1_conv2 (Conv2D)       (None, 300, 300, 64)      36928     \n",
            "                                                                 \n",
            " block1_pool (MaxPooling2D)  (None, 150, 150, 64)      0         \n",
            "                                                                 \n",
            " block2_conv1 (Conv2D)       (None, 150, 150, 128)     73856     \n",
            "                                                                 \n",
            " block2_conv2 (Conv2D)       (None, 150, 150, 128)     147584    \n",
            "                                                                 \n",
            " block2_pool (MaxPooling2D)  (None, 75, 75, 128)       0         \n",
            "                                                                 \n",
            " block3_conv1 (Conv2D)       (None, 75, 75, 256)       295168    \n",
            "                                                                 \n",
            " block3_conv2 (Conv2D)       (None, 75, 75, 256)       590080    \n",
            "                                                                 \n",
            " block3_conv3 (Conv2D)       (None, 75, 75, 256)       590080    \n",
            "                                                                 \n",
            " block3_pool (MaxPooling2D)  (None, 37, 37, 256)       0         \n",
            "                                                                 \n",
            " block4_conv1 (Conv2D)       (None, 37, 37, 512)       1180160   \n",
            "                                                                 \n",
            " block4_conv2 (Conv2D)       (None, 37, 37, 512)       2359808   \n",
            "                                                                 \n",
            " block4_conv3 (Conv2D)       (None, 37, 37, 512)       2359808   \n",
            "                                                                 \n",
            " block4_pool (MaxPooling2D)  (None, 18, 18, 512)       0         \n",
            "                                                                 \n",
            " block5_conv1 (Conv2D)       (None, 18, 18, 512)       2359808   \n",
            "                                                                 \n",
            " block5_conv2 (Conv2D)       (None, 18, 18, 512)       2359808   \n",
            "                                                                 \n",
            " block5_conv3 (Conv2D)       (None, 18, 18, 512)       2359808   \n",
            "                                                                 \n",
            " block5_pool (MaxPooling2D)  (None, 9, 9, 512)         0         \n",
            "                                                                 \n",
            " flatten_1 (Flatten)         (None, 41472)             0         \n",
            "                                                                 \n",
            " dense_2 (Dense)             (None, 1024)              42468352  \n",
            "                                                                 \n",
            " dense_3 (Dense)             (None, 10)                10250     \n",
            "                                                                 \n",
            "=================================================================\n",
            "Total params: 57193290 (218.18 MB)\n",
            "Trainable params: 42478602 (162.04 MB)\n",
            "Non-trainable params: 14714688 (56.13 MB)\n",
            "_________________________________________________________________\n"
          ]
        }
      ]
    },
    {
      "cell_type": "code",
      "source": [
        "#範例 3\n",
        "# example of using a pre-trained model as a classifier\n",
        "from keras.preprocessing.image import load_img\n",
        "from keras.preprocessing.image import img_to_array\n",
        "from keras.applications.vgg16 import preprocess_input\n",
        "#from keras.applications.vgg16 import decode_predictions\n",
        "from keras.applications.vgg16 import VGG16\n",
        "import numpy as np\n",
        "from keras.models import Model\n",
        "from keras.layers import Dense, Input, Flatten, Reshape\n",
        "from tensorflow.keras.datasets import cifar10\n",
        "from tensorflow.keras import utils\n",
        "import cv2\n",
        "import matplotlib.pyplot as plt\n",
        "\n",
        "# 繪製線圖 (可將訓練時所傳回的損失值或準確率等歷史記錄繪製成線圖)\n",
        "# history: 內含一或多筆要繪資料的字典, 例如：{'loss': [4,2,1,…], 'acc': [2,3,5,…]}\n",
        "# keys: 以 tuple 或串列指定 history 中要繪製的 key 值, 例如：('loss', 'acc')\n",
        "# title: 以字串指定圖表的標題文字\n",
        "# xyLabel: 以 tuple 或串列指定 x, y 軸的說明文字, 例如：('epoch', 'Accuracy')\n",
        "# ylim: 以 tuple 或串列指定 y 軸的最小值及最大值, 例如 (1, 3), 超出範圍的值會被忽略\n",
        "# size: 以 tuple 指定圖的尺寸, 預設為 (6, 4) (即寬 6 高 4 英吋)\n",
        "#匯入自訂的繪圖工具模組\n",
        "def plot(history_dict, keys, title=None, xyLabel=[], ylim=(), size=()):\n",
        "    lineType = ('-', '--', '.', ':')    # 線條的樣式, 畫多條線時會依序採用\n",
        "    if len(ylim)==2: plt.ylim(*ylim)    # 設定 y 軸最小值及最大值\n",
        "    if len(size)==2: plt.gcf().set_size_inches(*size)  # size預設為 (6,4)\n",
        "    epochs = range(1, len(history_dict[keys[0]])+1)  # 計算有幾週期的資料\n",
        "    for i in range(len(keys)):   # 走訪每一個 key (例如 'loss' 或 'acc' 等)\n",
        "        plt.plot(epochs, history_dict[keys[i]], lineType[i])  # 畫出線條\n",
        "    if title:   # 是否顯示標題欄\n",
        "        plt.title(title)\n",
        "    if len(xyLabel)==2:  # 是否顯示 x, y 軸的說明文字\n",
        "        plt.xlabel(xyLabel[0])\n",
        "        plt.ylabel(xyLabel[1])\n",
        "    plt.legend(keys, loc='best') #upper left')  # 顯示圖例 (會以 key 為每條線的說明)\n",
        "    plt.show()  # 顯示出畫好的圖\n",
        "\n",
        "\n",
        "(x_train, y_train), (x_test, y_test) = cifar10.load_data()\n",
        "\n",
        "x_train_norm=[]#準備1000張訓練圖片\n",
        "for i in range(1000):\n",
        "  img = x_train[i]\n",
        "  img = cv2.resize(img, (224, 224), interpolation=cv2.INTER_AREA)\n",
        "  img = preprocess_input(img)\n",
        "  x_train_norm.append(img)\n",
        "x_train_norm = np.asarray(x_train_norm)\n",
        "\n",
        "x_test_norm=[] #準備1000張測試圖片\n",
        "for i in range(1000):\n",
        "  img = x_test[i]\n",
        "  img = cv2.resize(img, (224, 224), interpolation=cv2.INTER_AREA)\n",
        "  img = preprocess_input(img)\n",
        "  x_test_norm.append(img)\n",
        "x_test_norm = np.asarray(x_test_norm)\n",
        "\n",
        "# -- 將數字標籤進行 One-hot 編碼 -- #\n",
        "# 進行 One-hot 編碼轉換...\n",
        "y_train_onehot = utils.to_categorical(y_train[0:1000], 10) # 將訓練標籤進行 One-hot 編碼\n",
        "y_test_onehot = utils.to_categorical(y_test[0:1000], 10)\t # 將測試標籤進行 One-hot 編碼\n",
        "# End of Data --------------------------------------------------------------\n",
        "\n",
        "# Method 2:  load model and specify a new input shape for images\n",
        "new_input = Input(shape=(224, 224, 3))\n",
        "model = VGG16(include_top=False, input_tensor=new_input )\n",
        "# mark loaded layers as not trainable\n",
        "for layer in model.layers:\n",
        "  layer.trainable = False\n",
        "# add new classifier layers\n",
        "print(\"model.outputs.shap: \", model.output.shape)\n",
        "flat1 = Flatten()(model.outputs[0])\n",
        "class1 = Dense(1024, activation='relu')(flat1)\n",
        "output = Dense(10, activation='softmax')(class1)\n",
        "model = Model(new_input, output)\n",
        "model.summary()\n",
        "# -- 神經網路的訓練配置 -- #\n",
        "model.compile(loss='categorical_crossentropy',\t# 損失函數\n",
        "              optimizer='adam',\t # adam優化器\n",
        "              metrics=['acc'])\t # 以準確度做為訓練指標\n",
        "print(\"x_train_norm:\", x_train_norm.shape)\n",
        "print(\"x_test_norm:\", x_test_norm.shape)\n",
        "print(\"y_train_onehot:\", y_train_onehot.shape)\n",
        "print(\"y_test_onehot:\", y_test_onehot.shape)\n",
        "\n",
        "# -- 進行訓練 -- #\n",
        "history = model.fit(x=x_train_norm,\n",
        "\t  \t\t    y=y_train_onehot,\n",
        "      \t\t  batch_size=128,\n",
        "      \t\t  epochs=20,\n",
        "      \t\t  validation_split = 0.1\n",
        "\t\t\t    )\n",
        "\n"
      ],
      "metadata": {
        "colab": {
          "base_uri": "https://localhost:8080/",
          "height": 1000
        },
        "id": "Fplr3hhbiyc6",
        "outputId": "de70c680-120a-4eff-b7e3-785688429911"
      },
      "execution_count": 1,
      "outputs": [
        {
          "output_type": "stream",
          "name": "stdout",
          "text": [
            "Downloading data from https://www.cs.toronto.edu/~kriz/cifar-10-python.tar.gz\n",
            "170498071/170498071 [==============================] - 6s 0us/step\n",
            "Downloading data from https://storage.googleapis.com/tensorflow/keras-applications/vgg16/vgg16_weights_tf_dim_ordering_tf_kernels_notop.h5\n",
            "58889256/58889256 [==============================] - 1s 0us/step\n",
            "model.outputs.shap:  (None, 7, 7, 512)\n",
            "Model: \"model\"\n",
            "_________________________________________________________________\n",
            " Layer (type)                Output Shape              Param #   \n",
            "=================================================================\n",
            " input_1 (InputLayer)        [(None, 224, 224, 3)]     0         \n",
            "                                                                 \n",
            " block1_conv1 (Conv2D)       (None, 224, 224, 64)      1792      \n",
            "                                                                 \n",
            " block1_conv2 (Conv2D)       (None, 224, 224, 64)      36928     \n",
            "                                                                 \n",
            " block1_pool (MaxPooling2D)  (None, 112, 112, 64)      0         \n",
            "                                                                 \n",
            " block2_conv1 (Conv2D)       (None, 112, 112, 128)     73856     \n",
            "                                                                 \n",
            " block2_conv2 (Conv2D)       (None, 112, 112, 128)     147584    \n",
            "                                                                 \n",
            " block2_pool (MaxPooling2D)  (None, 56, 56, 128)       0         \n",
            "                                                                 \n",
            " block3_conv1 (Conv2D)       (None, 56, 56, 256)       295168    \n",
            "                                                                 \n",
            " block3_conv2 (Conv2D)       (None, 56, 56, 256)       590080    \n",
            "                                                                 \n",
            " block3_conv3 (Conv2D)       (None, 56, 56, 256)       590080    \n",
            "                                                                 \n",
            " block3_pool (MaxPooling2D)  (None, 28, 28, 256)       0         \n",
            "                                                                 \n",
            " block4_conv1 (Conv2D)       (None, 28, 28, 512)       1180160   \n",
            "                                                                 \n",
            " block4_conv2 (Conv2D)       (None, 28, 28, 512)       2359808   \n",
            "                                                                 \n",
            " block4_conv3 (Conv2D)       (None, 28, 28, 512)       2359808   \n",
            "                                                                 \n",
            " block4_pool (MaxPooling2D)  (None, 14, 14, 512)       0         \n",
            "                                                                 \n",
            " block5_conv1 (Conv2D)       (None, 14, 14, 512)       2359808   \n",
            "                                                                 \n",
            " block5_conv2 (Conv2D)       (None, 14, 14, 512)       2359808   \n",
            "                                                                 \n",
            " block5_conv3 (Conv2D)       (None, 14, 14, 512)       2359808   \n",
            "                                                                 \n",
            " block5_pool (MaxPooling2D)  (None, 7, 7, 512)         0         \n",
            "                                                                 \n",
            " flatten (Flatten)           (None, 25088)             0         \n",
            "                                                                 \n",
            " dense (Dense)               (None, 1024)              25691136  \n",
            "                                                                 \n",
            " dense_1 (Dense)             (None, 10)                10250     \n",
            "                                                                 \n",
            "=================================================================\n",
            "Total params: 40416074 (154.18 MB)\n",
            "Trainable params: 25701386 (98.04 MB)\n",
            "Non-trainable params: 14714688 (56.13 MB)\n",
            "_________________________________________________________________\n",
            "x_train_norm: (1000, 224, 224, 3)\n",
            "x_test_norm: (1000, 224, 224, 3)\n",
            "y_train_onehot: (1000, 10)\n",
            "y_test_onehot: (1000, 10)\n",
            "Epoch 1/20\n",
            "8/8 [==============================] - 43s 3s/step - loss: 69.2993 - acc: 0.1600 - val_loss: 64.4087 - val_acc: 0.2200\n",
            "Epoch 2/20\n",
            "8/8 [==============================] - 4s 468ms/step - loss: 36.5741 - acc: 0.4289 - val_loss: 13.1416 - val_acc: 0.3300\n",
            "Epoch 3/20\n",
            "8/8 [==============================] - 4s 479ms/step - loss: 6.2445 - acc: 0.5489 - val_loss: 9.7215 - val_acc: 0.2800\n",
            "Epoch 4/20\n",
            "8/8 [==============================] - 4s 501ms/step - loss: 2.2383 - acc: 0.6744 - val_loss: 3.9061 - val_acc: 0.4500\n",
            "Epoch 5/20\n",
            "8/8 [==============================] - 4s 501ms/step - loss: 0.7490 - acc: 0.8244 - val_loss: 2.7553 - val_acc: 0.5300\n",
            "Epoch 6/20\n",
            "8/8 [==============================] - 4s 511ms/step - loss: 0.1845 - acc: 0.9478 - val_loss: 2.9778 - val_acc: 0.5600\n",
            "Epoch 7/20\n",
            "8/8 [==============================] - 4s 477ms/step - loss: 0.0546 - acc: 0.9822 - val_loss: 2.3718 - val_acc: 0.5800\n",
            "Epoch 8/20\n",
            "8/8 [==============================] - 4s 508ms/step - loss: 0.0126 - acc: 0.9956 - val_loss: 2.3465 - val_acc: 0.5900\n",
            "Epoch 9/20\n",
            "8/8 [==============================] - 5s 585ms/step - loss: 0.0090 - acc: 0.9967 - val_loss: 2.2274 - val_acc: 0.5900\n",
            "Epoch 10/20\n",
            "8/8 [==============================] - 4s 490ms/step - loss: 0.0017 - acc: 1.0000 - val_loss: 2.2139 - val_acc: 0.5900\n",
            "Epoch 11/20\n",
            "8/8 [==============================] - 4s 516ms/step - loss: 0.0012 - acc: 1.0000 - val_loss: 2.2242 - val_acc: 0.6000\n",
            "Epoch 12/20\n",
            "8/8 [==============================] - 4s 523ms/step - loss: 0.0010 - acc: 1.0000 - val_loss: 2.2336 - val_acc: 0.5800\n",
            "Epoch 13/20\n",
            "8/8 [==============================] - 4s 487ms/step - loss: 9.0912e-04 - acc: 1.0000 - val_loss: 2.2375 - val_acc: 0.6000\n",
            "Epoch 14/20\n",
            "8/8 [==============================] - 4s 488ms/step - loss: 8.3684e-04 - acc: 1.0000 - val_loss: 2.2411 - val_acc: 0.6000\n",
            "Epoch 15/20\n",
            "8/8 [==============================] - 4s 494ms/step - loss: 7.7626e-04 - acc: 1.0000 - val_loss: 2.2425 - val_acc: 0.6100\n",
            "Epoch 16/20\n",
            "8/8 [==============================] - 4s 524ms/step - loss: 7.2113e-04 - acc: 1.0000 - val_loss: 2.2387 - val_acc: 0.6100\n",
            "Epoch 17/20\n",
            "8/8 [==============================] - 4s 497ms/step - loss: 6.8049e-04 - acc: 1.0000 - val_loss: 2.2361 - val_acc: 0.6100\n",
            "Epoch 18/20\n",
            "8/8 [==============================] - 4s 531ms/step - loss: 6.3629e-04 - acc: 1.0000 - val_loss: 2.2367 - val_acc: 0.6000\n",
            "Epoch 19/20\n",
            "8/8 [==============================] - 4s 526ms/step - loss: 5.9649e-04 - acc: 1.0000 - val_loss: 2.2395 - val_acc: 0.6100\n",
            "Epoch 20/20\n",
            "8/8 [==============================] - 4s 498ms/step - loss: 5.6219e-04 - acc: 1.0000 - val_loss: 2.2447 - val_acc: 0.6100\n"
          ]
        },
        {
          "output_type": "error",
          "ename": "NameError",
          "evalue": "name 'util3' is not defined",
          "traceback": [
            "\u001b[0;31m---------------------------------------------------------------------------\u001b[0m",
            "\u001b[0;31mNameError\u001b[0m                                 Traceback (most recent call last)",
            "\u001b[0;32m<ipython-input-1-e1615520b4df>\u001b[0m in \u001b[0;36m<cell line: 95>\u001b[0;34m()\u001b[0m\n\u001b[1;32m     93\u001b[0m \u001b[0;31m# --  繪製圖表 -- #\u001b[0m\u001b[0;34m\u001b[0m\u001b[0;34m\u001b[0m\u001b[0m\n\u001b[1;32m     94\u001b[0m \u001b[0;34m\u001b[0m\u001b[0m\n\u001b[0;32m---> 95\u001b[0;31m util3.plot( history.history,   # 繪製準確率與驗證準確度的歷史線圖\n\u001b[0m\u001b[1;32m     96\u001b[0m         \u001b[0;34m(\u001b[0m\u001b[0;34m'acc'\u001b[0m\u001b[0;34m,\u001b[0m \u001b[0;34m'val_acc'\u001b[0m\u001b[0;34m)\u001b[0m\u001b[0;34m,\u001b[0m\u001b[0;34m\u001b[0m\u001b[0;34m\u001b[0m\u001b[0m\n\u001b[1;32m     97\u001b[0m         \u001b[0;34m'Training & Vaildation Acc'\u001b[0m\u001b[0;34m,\u001b[0m\u001b[0;34m\u001b[0m\u001b[0;34m\u001b[0m\u001b[0m\n",
            "\u001b[0;31mNameError\u001b[0m: name 'util3' is not defined"
          ]
        }
      ]
    },
    {
      "cell_type": "code",
      "source": [
        "# --  繪製圖表 -- #\n",
        "\n",
        "plot( history.history,   # 繪製準確率與驗證準確度的歷史線圖\n",
        "        ('acc', 'val_acc'),\n",
        "        'Training & Vaildation Acc',\n",
        "        ('Epoch','Acc'),\n",
        "        )\n",
        "\n",
        "plot( history.history,   #  繪製損失及驗證損失的歷史線圖\n",
        "        ('loss', 'val_loss'),\n",
        "        'Training & Vaildation Loss',\n",
        "        ('Epoch','Loss'),\n",
        "        )\n",
        "# -- 使用測試資料評估神經網路 -- #\n",
        "test_loss, test_val = model.evaluate(x_test_norm, y_test_onehot)\n",
        "print('測試資料損失值:', test_loss)\n",
        "print('測試資料準確度:', test_val)"
      ],
      "metadata": {
        "colab": {
          "base_uri": "https://localhost:8080/",
          "height": 979
        },
        "id": "Dhl2_xj4lGb7",
        "outputId": "e3d7ff6e-1f75-49ba-f637-ac40acb8415c"
      },
      "execution_count": 2,
      "outputs": [
        {
          "output_type": "display_data",
          "data": {
            "text/plain": [
              "<Figure size 640x480 with 1 Axes>"
            ],
            "image/png": "[encoded data removed]"
          },
          "metadata": {}
        },
        {
          "output_type": "display_data",
          "data": {
            "text/plain": [
              "<Figure size 640x480 with 1 Axes>"
            ],
            "image/png": "[encoded data removed]"
          },
          "metadata": {}
        },
        {
          "output_type": "stream",
          "name": "stdout",
          "text": [
            "32/32 [==============================] - 12s 192ms/step - loss: 2.9237 - acc: 0.5340\n",
            "測試資料損失值: 2.923699378967285\n",
            "測試資料準確度: 0.5339999794960022\n"
          ]
        }
      ]
    },
    {
      "cell_type": "code",
      "source": [
        "#範例 3\n",
        "# example of using the vgg16 model as a feature extraction model\n",
        "from keras.preprocessing.image import load_img\n",
        "from keras.preprocessing.image import img_to_array\n",
        "from keras.applications.vgg16 import preprocess_input\n",
        "from keras.applications.vgg16 import decode_predictions\n",
        "from keras.applications.vgg16 import VGG16\n",
        "from keras.models import Model\n",
        "from pickle import dump\n",
        "# load an image from file\n",
        "image = load_img('dog.jpg', target_size=(224, 224))\n",
        "# convert the image pixels to a numpy array\n",
        "image = img_to_array(image)\n",
        "# reshape data for the model\n",
        "image = image.reshape((1, image.shape[0], image.shape[1], image.shape[2]))#batch =1\n",
        "# prepare the image for the VGG model\n",
        "image = preprocess_input(image)\n",
        "# load model\n",
        "model = VGG16()\n",
        "# remove the output layer\n",
        "model.layers.pop()\n",
        "model = Model(inputs=model.inputs, outputs=model.layers[-1].output)\n",
        "# get extracted features\n",
        "features = model.predict(image)\n",
        "print(features.shape)\n",
        "# save to file\n",
        "dump(features, open('dog.pkl', 'wb'))"
      ],
      "metadata": {
        "colab": {
          "base_uri": "https://localhost:8080/"
        },
        "id": "QrGN1_xglRzb",
        "outputId": "f7e1ff3b-0b8c-4c73-efbb-55ccd98fdae3"
      },
      "execution_count": 3,
      "outputs": [
        {
          "output_type": "stream",
          "name": "stdout",
          "text": [
            "Downloading data from https://storage.googleapis.com/tensorflow/keras-applications/vgg16/vgg16_weights_tf_dim_ordering_tf_kernels.h5\n",
            "553467096/553467096 [==============================] - 10s 0us/step\n",
            "1/1 [==============================] - 1s 1s/step\n",
            "(1, 1000)\n"
          ]
        }
      ]
    },
    {
      "cell_type": "code",
      "source": [
        "model.input"
      ],
      "metadata": {
        "colab": {
          "base_uri": "https://localhost:8080/"
        },
        "id": "Z7YkF6abl-9i",
        "outputId": "5d8210a7-3be5-4540-df0d-b2ed757e65b6"
      },
      "execution_count": 4,
      "outputs": [
        {
          "output_type": "execute_result",
          "data": {
            "text/plain": [
              "<KerasTensor: shape=(None, 224, 224, 3) dtype=float32 (created by layer 'input_2')>"
            ]
          },
          "metadata": {},
          "execution_count": 4
        }
      ]
    }
  ]
}