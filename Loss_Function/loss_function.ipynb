{
 "cells": [
  {
   "cell_type": "code",
   "execution_count": 3,
   "metadata": {},
   "outputs": [
    {
     "name": "stdout",
     "output_type": "stream",
     "text": [
      "MSE grads: tf.Tensor(\n",
      "[[-0.16666667  0.10000001  0.06666667]\n",
      " [ 0.10000001  0.06666667 -0.16666667]], shape=(2, 3), dtype=float32)\n",
      "MSE loss: tf.Tensor(0.12666667, shape=(), dtype=float32)\n",
      "BCE grads: tf.Tensor(\n",
      "[[-0.33333334  0.23809525  0.20833334]\n",
      " [ 0.23809525  0.20833334 -0.33333334]], shape=(2, 3), dtype=float32)\n",
      "BCE loss: tf.Tensor(0.4243219, shape=(), dtype=float32)\n",
      "CCE grads: tf.Tensor(\n",
      "[[-1. -0. -0.]\n",
      " [-0. -0. -1.]], shape=(2, 3), dtype=float32)\n",
      "CCE loss: tf.Tensor(0.6931472, shape=(), dtype=float32)\n"
     ]
    }
   ],
   "source": [
    "import tensorflow as tf\n",
    "import numpy as np\n",
    "\n",
    "y = tf.Variable([[0.5, 0.3, 0.2],\n",
    "                 [0.3, 0.2, 0.5]], dtype=tf.float32) \n",
    "t = tf.constant([[1.0, 0.0, 0.0],\n",
    "                 [0.0, 0.0, 1.0]], dtype=tf.float32) \n",
    "\n",
    "def compGradient(y, t, LossFun):\n",
    "    with tf.GradientTape() as tape:\n",
    "        if LossFun == 'MSE':\n",
    "            loss = tf.reduce_mean((t - y)**2)\n",
    "        \n",
    "        elif LossFun == 'BCE':\n",
    "            loss = -tf.reduce_mean(t * tf.math.log(y) + (1.0 - t) * tf.math.log(1.0 - y))\n",
    "        \n",
    "        elif LossFun == 'CCE':\n",
    "            loss = -tf.reduce_mean(tf.reduce_sum(t * tf.math.log(y), axis=1))\n",
    "    \n",
    "    grads = tape.gradient(loss, y)\n",
    "    return grads, loss\n",
    "\n",
    "grads, loss = compGradient(y, t, 'MSE')\n",
    "print(\"MSE grads:\", grads)\n",
    "print(\"MSE loss:\", loss)\n",
    "\n",
    "grads, loss = compGradient(y, t, 'BCE')\n",
    "print(\"BCE grads:\", grads)\n",
    "print(\"BCE loss:\",loss)\n",
    "\n",
    "grads, loss = compGradient(y, t, 'CCE')\n",
    "print(\"CCE grads:\", grads)\n",
    "print(\"CCE loss:\", loss)\n"
   ]
  }
 ],
 "metadata": {
  "kernelspec": {
   "display_name": "TF_GPU",
   "language": "python",
   "name": "python3"
  },
  "language_info": {
   "codemirror_mode": {
    "name": "ipython",
    "version": 3
   },
   "file_extension": ".py",
   "mimetype": "text/x-python",
   "name": "python",
   "nbconvert_exporter": "python",
   "pygments_lexer": "ipython3",
   "version": "3.10.16"
  }
 },
 "nbformat": 4,
 "nbformat_minor": 2
}
